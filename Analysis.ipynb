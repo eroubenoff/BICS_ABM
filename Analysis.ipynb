{
 "cells": [
  {
   "cell_type": "markdown",
   "id": "2fe18723",
   "metadata": {},
   "source": [
    "# BICS_ABM\n",
    "Ethan Roubenoff"
   ]
  },
  {
   "cell_type": "code",
   "execution_count": 1,
   "id": "a4107641",
   "metadata": {
    "scrolled": true
   },
   "outputs": [
    {
     "name": "stderr",
     "output_type": "stream",
     "text": [
      "/Users/eroubenoff/BICS_ABM/BICS_ABM.py:78: DtypeWarning: Columns (26,63,64,65,66,68,69,70,71,72,73,76,86,139,140,149,175,176,177,191,195,205,213,214,215,216,217,218,219,220,221,222,223,224,225,227,228,229) have mixed types. Specify dtype option on import or set low_memory=False.\n",
      "  BICS = pd.read_csv(\"data/df_all_waves.csv\")\n"
     ]
    }
   ],
   "source": [
    "import numpy as np\n",
    "import pandas as pd\n",
    "import matplotlib.pyplot as plt\n",
    "from BICS_ABM import BICS_ABM, VaccineRule\n",
    "import time\n",
    "from joblib import Parallel, delayed\n",
    "from scipy.stats.qmc import LatinHypercube\n",
    "from scipy.stats import norm, uniform, randint\n",
    "\n",
    "import collections\n",
    "import re"
   ]
  },
  {
   "cell_type": "markdown",
   "id": "96feab87",
   "metadata": {},
   "source": [
    "## Quick, demonstrative example:"
   ]
  },
  {
   "cell_type": "code",
   "execution_count": 2,
   "id": "238808df",
   "metadata": {},
   "outputs": [
    {
     "ename": "ValueError",
     "evalue": "BETA parameter is deprecated; instead use BETA1 with BETA2=0",
     "output_type": "error",
     "traceback": [
      "\u001b[0;31m---------------------------------------------------------------------------\u001b[0m",
      "\u001b[0;31mValueError\u001b[0m                                Traceback (most recent call last)",
      "Cell \u001b[0;32mIn [2], line 1\u001b[0m\n\u001b[0;32m----> 1\u001b[0m result \u001b[38;5;241m=\u001b[39m \u001b[43mBICS_ABM\u001b[49m\u001b[43m(\u001b[49m\u001b[43m \u001b[49m\n\u001b[1;32m      2\u001b[0m \u001b[43m        \u001b[49m\u001b[43mN_HH\u001b[49m\u001b[43m \u001b[49m\u001b[38;5;241;43m=\u001b[39;49m\u001b[43m \u001b[49m\u001b[38;5;241;43m10000\u001b[39;49m\u001b[43m,\u001b[49m\n\u001b[1;32m      3\u001b[0m \u001b[43m        \u001b[49m\u001b[43mSEED\u001b[49m\u001b[43m \u001b[49m\u001b[38;5;241;43m=\u001b[39;49m\u001b[43m \u001b[49m\u001b[38;5;241;43m4949\u001b[39;49m\u001b[43m,\u001b[49m\u001b[43m \u001b[49m\n\u001b[1;32m      4\u001b[0m \u001b[43m        \u001b[49m\u001b[43mRHO\u001b[49m\u001b[43m \u001b[49m\u001b[38;5;241;43m=\u001b[39;49m\u001b[43m \u001b[49m\u001b[38;5;241;43m0.9\u001b[39;49m\u001b[43m,\u001b[49m\n\u001b[1;32m      5\u001b[0m \u001b[43m        \u001b[49m\u001b[43mALPHA\u001b[49m\u001b[43m \u001b[49m\u001b[38;5;241;43m=\u001b[39;49m\u001b[43m \u001b[49m\u001b[38;5;241;43m0.25\u001b[39;49m\u001b[43m,\u001b[49m\n\u001b[1;32m      6\u001b[0m \u001b[43m        \u001b[49m\u001b[43mBETA\u001b[49m\u001b[43m \u001b[49m\u001b[38;5;241;43m=\u001b[39;49m\u001b[43m \u001b[49m\u001b[38;5;241;43m0.05\u001b[39;49m\u001b[43m,\u001b[49m\n\u001b[1;32m      7\u001b[0m \u001b[43m        \u001b[49m\u001b[43mT0\u001b[49m\u001b[43m \u001b[49m\u001b[38;5;241;43m=\u001b[39;49m\u001b[43m \u001b[49m\u001b[38;5;241;43m60\u001b[39;49m\u001b[43m,\u001b[49m\n\u001b[1;32m      8\u001b[0m \u001b[43m        \u001b[49m\u001b[43mISOLATION_MULTIPLIER\u001b[49m\u001b[43m \u001b[49m\u001b[38;5;241;43m=\u001b[39;49m\u001b[43m \u001b[49m\u001b[38;5;241;43m0.5\u001b[39;49m\u001b[43m,\u001b[49m\u001b[43m \u001b[49m\n\u001b[1;32m      9\u001b[0m \u001b[43m        \u001b[49m\u001b[43mN_VAX_DAILY\u001b[49m\u001b[43m \u001b[49m\u001b[38;5;241;43m=\u001b[39;49m\u001b[43m \u001b[49m\u001b[38;5;241;43m1500\u001b[39;49m\u001b[43m,\u001b[49m\n\u001b[1;32m     10\u001b[0m \u001b[43m        \u001b[49m\u001b[43mvax_rules\u001b[49m\u001b[43m \u001b[49m\u001b[38;5;241;43m=\u001b[39;49m\u001b[43m \u001b[49m\u001b[43m[\u001b[49m\n\u001b[1;32m     11\u001b[0m \u001b[43m            \u001b[49m\u001b[43mVaccineRule\u001b[49m\u001b[43m(\u001b[49m\u001b[38;5;124;43m\"\u001b[39;49m\u001b[38;5;124;43mage > 80\u001b[39;49m\u001b[38;5;124;43m\"\u001b[39;49m\u001b[43m)\u001b[49m\u001b[43m,\u001b[49m\n\u001b[1;32m     12\u001b[0m \u001b[43m            \u001b[49m\u001b[43mVaccineRule\u001b[49m\u001b[43m(\u001b[49m\u001b[38;5;124;43m\"\u001b[39;49m\u001b[38;5;124;43mage > 70\u001b[39;49m\u001b[38;5;124;43m\"\u001b[39;49m\u001b[43m)\u001b[49m\u001b[43m,\u001b[49m\n\u001b[1;32m     13\u001b[0m \u001b[43m            \u001b[49m\u001b[43mVaccineRule\u001b[49m\u001b[43m(\u001b[49m\u001b[38;5;124;43m\"\u001b[39;49m\u001b[38;5;124;43mage > 60\u001b[39;49m\u001b[38;5;124;43m\"\u001b[39;49m\u001b[43m)\u001b[49m\u001b[43m,\u001b[49m\n\u001b[1;32m     14\u001b[0m \u001b[43m            \u001b[49m\u001b[43mVaccineRule\u001b[49m\u001b[43m(\u001b[49m\u001b[38;5;124;43m\"\u001b[39;49m\u001b[38;5;124;43mage > 50\u001b[39;49m\u001b[38;5;124;43m\"\u001b[39;49m\u001b[43m,\u001b[49m\u001b[43m \u001b[49m\u001b[43mhesitancy\u001b[49m\u001b[43m \u001b[49m\u001b[38;5;241;43m=\u001b[39;49m\u001b[43m \u001b[49m\u001b[38;5;241;43m0.5\u001b[39;49m\u001b[43m)\u001b[49m\u001b[43m,\u001b[49m\n\u001b[1;32m     15\u001b[0m \u001b[43m            \u001b[49m\u001b[43mVaccineRule\u001b[49m\u001b[43m(\u001b[49m\u001b[38;5;124;43m\"\u001b[39;49m\u001b[38;5;124;43mage > 40\u001b[39;49m\u001b[38;5;124;43m\"\u001b[39;49m\u001b[43m,\u001b[49m\u001b[43m \u001b[49m\u001b[43mhesitancy\u001b[49m\u001b[43m \u001b[49m\u001b[38;5;241;43m=\u001b[39;49m\u001b[43m \u001b[49m\u001b[38;5;241;43m0.5\u001b[39;49m\u001b[43m)\u001b[49m\u001b[43m,\u001b[49m\n\u001b[1;32m     16\u001b[0m \u001b[43m            \u001b[49m\u001b[43mVaccineRule\u001b[49m\u001b[43m(\u001b[49m\u001b[38;5;124;43m\"\u001b[39;49m\u001b[38;5;124;43mage > 30\u001b[39;49m\u001b[38;5;124;43m\"\u001b[39;49m\u001b[43m,\u001b[49m\u001b[43m \u001b[49m\u001b[43mhesitancy\u001b[49m\u001b[43m \u001b[49m\u001b[38;5;241;43m=\u001b[39;49m\u001b[43m \u001b[49m\u001b[38;5;241;43m0.5\u001b[39;49m\u001b[43m)\u001b[49m\u001b[43m,\u001b[49m\n\u001b[1;32m     17\u001b[0m \u001b[43m            \u001b[49m\u001b[43mVaccineRule\u001b[49m\u001b[43m(\u001b[49m\u001b[43mgeneral\u001b[49m\u001b[43m \u001b[49m\u001b[38;5;241;43m=\u001b[39;49m\u001b[43m \u001b[49m\u001b[38;5;28;43;01mTrue\u001b[39;49;00m\u001b[43m,\u001b[49m\u001b[43m \u001b[49m\u001b[43mhesitancy\u001b[49m\u001b[43m \u001b[49m\u001b[38;5;241;43m=\u001b[39;49m\u001b[43m \u001b[49m\u001b[38;5;241;43m0.5\u001b[39;49m\u001b[43m)\u001b[49m\u001b[43m,\u001b[49m\n\u001b[1;32m     18\u001b[0m \u001b[43m        \u001b[49m\u001b[43m]\u001b[49m\u001b[43m)\u001b[49m\n\u001b[1;32m     20\u001b[0m result\u001b[38;5;241m.\u001b[39mplot_trajectory()\n",
      "File \u001b[0;32m~/BICS_ABM/BICS_ABM.py:394\u001b[0m, in \u001b[0;36mBICS_ABM.__init__\u001b[0;34m(self, n_hh, wave, vax_rules, silent, pop, **kwargs)\u001b[0m\n\u001b[1;32m    391\u001b[0m     \u001b[38;5;28;01mdel\u001b[39;00m kwargs[\u001b[38;5;124m\"\u001b[39m\u001b[38;5;124mBETA1\u001b[39m\u001b[38;5;124m\"\u001b[39m]\n\u001b[1;32m    393\u001b[0m \u001b[38;5;28;01mif\u001b[39;00m \u001b[38;5;124m\"\u001b[39m\u001b[38;5;124mBETA\u001b[39m\u001b[38;5;124m\"\u001b[39m \u001b[38;5;129;01min\u001b[39;00m kwargs:\n\u001b[0;32m--> 394\u001b[0m     \u001b[38;5;28;01mraise\u001b[39;00m \u001b[38;5;167;01mValueError\u001b[39;00m(\u001b[38;5;124m\"\u001b[39m\u001b[38;5;124mBETA parameter is deprecated; instead use BETA1 with BETA2=0\u001b[39m\u001b[38;5;124m\"\u001b[39m)\n\u001b[1;32m    396\u001b[0m \u001b[38;5;28;01mif\u001b[39;00m \u001b[38;5;124m\"\u001b[39m\u001b[38;5;124mBETA_VEC\u001b[39m\u001b[38;5;124m\"\u001b[39m \u001b[38;5;129;01min\u001b[39;00m kwargs:\n\u001b[1;32m    397\u001b[0m     \u001b[38;5;28;01mif\u001b[39;00m \u001b[38;5;28mlen\u001b[39m(kwargs[\u001b[38;5;124m\"\u001b[39m\u001b[38;5;124mBETA_VEC\u001b[39m\u001b[38;5;124m\"\u001b[39m]) \u001b[38;5;241m!=\u001b[39m \u001b[38;5;241m365\u001b[39m:\n",
      "\u001b[0;31mValueError\u001b[0m: BETA parameter is deprecated; instead use BETA1 with BETA2=0"
     ]
    }
   ],
   "source": [
    "result = BICS_ABM( \n",
    "        N_HH = 10000,\n",
    "        SEED = 4949, \n",
    "        RHO = 0.9,\n",
    "        ALPHA = 0.25,\n",
    "        BETA = 0.05,\n",
    "        T0 = 60,\n",
    "        ISOLATION_MULTIPLIER = 0.5, \n",
    "        N_VAX_DAILY = 1500,\n",
    "        vax_rules = [\n",
    "            VaccineRule(\"age > 80\"),\n",
    "            VaccineRule(\"age > 70\"),\n",
    "            VaccineRule(\"age > 60\"),\n",
    "            VaccineRule(\"age > 50\", hesitancy = 0.5),\n",
    "            VaccineRule(\"age > 40\", hesitancy = 0.5),\n",
    "            VaccineRule(\"age > 30\", hesitancy = 0.5),\n",
    "            VaccineRule(general = True, hesitancy = 0.5),\n",
    "        ])\n",
    "\n",
    "result.plot_trajectory()"
   ]
  },
  {
   "cell_type": "code",
   "execution_count": null,
   "id": "6c207f76",
   "metadata": {},
   "outputs": [],
   "source": [
    "# Calculate the effective R0 as beta * average contacts per hour per person * average time infectious\n",
    "0.01 * np.mean(result.n_edges)/result.S[0] * ((48+96)/2 + (72+168)/2)"
   ]
  },
  {
   "cell_type": "code",
   "execution_count": null,
   "id": "6650f82a",
   "metadata": {},
   "outputs": [],
   "source": [
    "plt.plot(result.n_edges)"
   ]
  },
  {
   "cell_type": "markdown",
   "id": "b72d44f0",
   "metadata": {},
   "source": [
    "# Main analysis\n",
    "\n",
    "Run simulations that gradually decrease number of nonhousehold contacts required for priority access. Start at 30\n",
    "and work down. Begin by assuming no asymptomatic transmission and 70% symptomatic rate, no isolation.\n",
    "\n",
    "\n",
    "Run 10 simulations for each, and chart the number of deaths.\n",
    "\n",
    "4 vaccine priorities: \n",
    "- No vax\n",
    "- Equal priority vax\n",
    "- Age priority\n",
    "- Contact priority\n",
    "\n",
    "4 transmission scenarios: \n",
    "- With all of the above\n",
    "- With all of the above + prior immunity\n",
    "- No isolation, no pre/asymptomatic transmission, no NPIs, no prior immunity"
   ]
  },
  {
   "cell_type": "markdown",
   "id": "758a1f51",
   "metadata": {},
   "source": [
    "# Q1: Comparing strategies"
   ]
  },
  {
   "cell_type": "code",
   "execution_count": null,
   "id": "4d11a6ca",
   "metadata": {},
   "outputs": [],
   "source": [
    "q1_df = pd.read_csv(\"q1_df.csv\", index_col = 0)"
   ]
  },
  {
   "cell_type": "code",
   "execution_count": null,
   "id": "25af8a04",
   "metadata": {},
   "outputs": [],
   "source": [
    "q1_d = [x.index[x == x.min()].values.tolist() for i, x in q1_df.filter(like=\"_d\").iterrows()]\n",
    "q1_d = [item for sublist in q1_d for item in sublist]\n",
    "\n",
    "print(collections.Counter(q1_d))\n",
    "\n",
    "q1_r = [x.index[x == x.min()].values.tolist() for i, x in q1_df.filter(like=\"_r\").iterrows()]\n",
    "q1_r = [item for sublist in q1_r for item in sublist]\n",
    "\n",
    "print(collections.Counter(q1_r))"
   ]
  },
  {
   "cell_type": "markdown",
   "id": "dcaadf85",
   "metadata": {},
   "source": [
    "# Q2: What it index cases come after vaccines have been distributed?"
   ]
  },
  {
   "cell_type": "code",
   "execution_count": null,
   "id": "f450f7ed",
   "metadata": {
    "scrolled": false
   },
   "outputs": [],
   "source": [
    "q2_df = pd.read_csv(\"q2_df.csv\", index_col=0)\n",
    "# For each sim, figure out which strategy had lowest death and infection rates\n",
    "\n",
    "q2_d = [x.index[x == x.min()].values.tolist() for i, x in q2_df.filter(like=\"_d\").iterrows()]\n",
    "q2_d = [item for sublist in q2_d for item in sublist]\n",
    "\n",
    "print(collections.Counter(q2_d))\n",
    "\n",
    "q2_r = [x.index[x == x.min()].values.tolist() for i, x in q2_df.filter(like=\"_r\").iterrows()]\n",
    "q2_r = [item for sublist in q2_r for item in sublist]\n",
    "\n",
    "print(collections.Counter(q2_r))\n"
   ]
  },
  {
   "cell_type": "markdown",
   "id": "661f54e7",
   "metadata": {},
   "source": [
    "# Q3: Finding the top % of num_cc to vaccinate"
   ]
  },
  {
   "cell_type": "code",
   "execution_count": null,
   "id": "2876099c",
   "metadata": {},
   "outputs": [],
   "source": [
    "q3_df = pd.read_csv(\"q3_df.csv\", index_col = 0)\n",
    "col = q3_df.pop(\"general_d\")\n",
    "q3_df.insert(q3_df.shape[1], \"0_d\", col)\n",
    "col = q3_df.pop(\"general_r\")\n",
    "q3_df.insert(q3_df.shape[1], \"0_r\", col)\n",
    "q3_df"
   ]
  },
  {
   "cell_type": "code",
   "execution_count": null,
   "id": "113d9ec5",
   "metadata": {},
   "outputs": [],
   "source": [
    "q3_d = q3_df.filter(like=\"_d\")\n",
    "q3_r = q3_df.filter(like=\"r\")\n",
    "x = [re.split(\"_\",x) for x in q3_d.columns]\n",
    "x = [int(y[0]) for y in x]\n",
    "print(x)"
   ]
  },
  {
   "cell_type": "code",
   "execution_count": null,
   "id": "d2d7a6d1",
   "metadata": {},
   "outputs": [],
   "source": [
    "fix, ax = plt.subplots(2, figsize= (10,10))\n",
    "\n",
    "ax[0].plot(x, q3_d.quantile(.5)*100, color = \"red\", label=\"Median\")\n",
    "ax[0].plot(x, q3_d.quantile(.25)*100, color = \"black\", label = \"50% of simulations\")\n",
    "ax[0].plot(x, q3_d.quantile(.75)*100, color = \"black\")\n",
    "ax[0].plot(x, q3_d.quantile(.05)*100, color = \"grey\", label = \"90% of simulations\")\n",
    "ax[0].plot(x, q3_d.quantile(.95)*100, color = \"grey\")\n",
    "ax[0].set_title(\"Deaths (% of Population)\")\n",
    "ax[0].set(xlabel=\"Vaccine Eligibility Threshold Number of Non-Household Contacts\", ylabel=\"%\")\n",
    "ax[0].legend(loc='center left', bbox_to_anchor=(1, -.1))\n",
    "\n",
    "ax[1].plot(x, q3_r.quantile(.5) *100, color = \"red\")\n",
    "ax[1].plot(x, q3_r.quantile(.25)*100, color = \"black\")\n",
    "ax[1].plot(x, q3_r.quantile(.75)*100, color = \"black\")\n",
    "ax[1].plot(x, q3_r.quantile(.05)*100, color = \"grey\")\n",
    "ax[1].plot(x, q3_r.quantile(.95)*100, color = \"grey\")\n",
    "ax[1].set_title(\"Infections (% of Population)\")\n",
    "ax[1].set(xlabel=\"Vaccine Eligibility Threshold Number of Non-Household Contacts\", ylabel=\"%\")\n",
    "\n",
    "plt.savefig(\"figs/cc_threshhold.png\",bbox_inches='tight')"
   ]
  },
  {
   "cell_type": "markdown",
   "id": "2e2b30b3",
   "metadata": {},
   "source": [
    "# Sensitivity tests\n",
    "\n",
    "beta: 0.0001 to 0.1\n",
    "\n",
    "rho (probability of clinical): 0 to 1\n",
    "\n",
    "alpha (relative infectiousness of pre and asymptomatic): 0 to 1\n",
    "\n",
    "isolation multiplier: 0 to 1"
   ]
  },
  {
   "cell_type": "code",
   "execution_count": null,
   "id": "2494fe27",
   "metadata": {},
   "outputs": [],
   "source": [
    "# beta vec with no asymptomatic transmission\n",
    "beta_vec = np.arange(0.001, 0.1 , 0.001)\n",
    "beta_vec = beta_vec.repeat(10)\n",
    "\n",
    "t = time.time()\n",
    "\n",
    "\n",
    "def multi_fn(beta):\n",
    "    \"\"\" Wrapper function for multiprocessing\n",
    "    \n",
    "    \"\"\"\n",
    "    \n",
    "    result = BICS_ABM(\n",
    "        ALPHA = 0,\n",
    "        RHO = 1,\n",
    "        N_HH = 1000, BETA = beta, \n",
    "        silent = True, \n",
    "        N_VAX_DAILY = 0\n",
    "    )\n",
    "    \n",
    "    return (result.R[-1] / (result.S[0] + result.E[0]), result.D[-1] / (result.S[0] + result.E[0]))\n",
    "    \n",
    "    \n",
    "result_vec = Parallel(n_jobs=8, verbose = 10)(delayed(multi_fn)(v) for v in beta_vec)\n",
    "    \n",
    "    \n",
    "t = time.time() - t\n",
    "\n",
    "print(len(beta_vec), \"iterations took\", t, \"seconds\")\n",
    "\n"
   ]
  },
  {
   "cell_type": "code",
   "execution_count": null,
   "id": "c1aa1b5f",
   "metadata": {},
   "outputs": [],
   "source": [
    "\n",
    "\n",
    "fig, ax = plt.subplots(2)\n",
    "ax[0].scatter(beta_vec, [x[0] for x in result_vec])\n",
    "ax[1].scatter(beta_vec, [x[1] for x in result_vec])"
   ]
  },
  {
   "cell_type": "markdown",
   "id": "b04ef34b",
   "metadata": {},
   "source": [
    "# Jointly vary the isolation multiplier and the proportion of symptomatic cases"
   ]
  },
  {
   "cell_type": "code",
   "execution_count": null,
   "id": "24589a10",
   "metadata": {},
   "outputs": [],
   "source": [
    "isomult_vec = np.arange(0, 1, 0.1)\n",
    "rho_vec = np.arange(0, 1, 0.1)\n",
    "isomult_vec, rho_vec = np.meshgrid(isomult_vec, rho_vec)\n",
    "isomult_vec = isomult_vec.flatten().repeat(10)\n",
    "rho_vec = rho_vec.flatten().repeat(10)\n",
    "\n",
    "\n",
    "t = time.time()\n",
    "\n",
    "\n",
    "def multi_fn(i, r):\n",
    "    \"\"\" Wrapper function for multiprocessing\n",
    "    \n",
    "    \"\"\"\n",
    "    \n",
    "    result = BICS_ABM(\n",
    "        RHO = r,\n",
    "        ISOLATION_MULTIPLIER = i, \n",
    "        N_HH = 1000, BETA = 0.01, \n",
    "        silent = True, \n",
    "        N_VAX_DAILY = 0\n",
    "    )\n",
    "    \n",
    "    return (result.R[-1] / (result.S[0] + result.E[0]), result.D[-1] / (result.S[0] + result.E[0]))\n",
    "    \n",
    "    \n",
    "result_vec = Parallel(n_jobs=8, verbose = 10)(delayed(multi_fn)(*x) for x in zip(isomult_vec, rho_vec))\n",
    "    \n",
    "    \n",
    "t = time.time() - t\n",
    "\n",
    "print(len(result_vec), \"iterations took\", t, \"seconds\")\n",
    "\n"
   ]
  },
  {
   "cell_type": "code",
   "execution_count": null,
   "id": "3a2976d5",
   "metadata": {},
   "outputs": [],
   "source": [
    "dv = np.array([x[0] for x in result_vec]).reshape((10,10,10))\n",
    "iv = np.array([x[1] for x in result_vec]).reshape((10,10,10))"
   ]
  },
  {
   "cell_type": "code",
   "execution_count": null,
   "id": "d7aff260",
   "metadata": {},
   "outputs": [],
   "source": [
    "plt.imshow(iv, extent = [0,1,0,1])\n",
    "plt.title(\"% Of population infected\")\n",
    "plt.xlabel(\"Isolation Multiplier\")\n",
    "plt.ylabel(\"Proportion of cases that are clinical\")\n",
    "plt.show()"
   ]
  },
  {
   "cell_type": "code",
   "execution_count": null,
   "id": "a745a4b1",
   "metadata": {},
   "outputs": [],
   "source": [
    "plt.imshow(dv, extent = [0,1,0,1])\n",
    "plt.title(\"% Of population dead\")\n",
    "plt.xlabel(\"Isolation Multiplier\")\n",
    "plt.ylabel(\"Proportion of cases that are clinical\")\n",
    "plt.show()"
   ]
  },
  {
   "cell_type": "code",
   "execution_count": null,
   "id": "a8557f4f",
   "metadata": {},
   "outputs": [],
   "source": []
  },
  {
   "cell_type": "markdown",
   "id": "94f2336d",
   "metadata": {},
   "source": [
    "# Speed test\n",
    "\n",
    "Not whole necessary, but kind of fun. Seems like there is no benefit past 4 or 8 threads.\n"
   ]
  },
  {
   "cell_type": "code",
   "execution_count": null,
   "id": "1795b82f",
   "metadata": {},
   "outputs": [],
   "source": [
    "if True:\n",
    "    reps = np.arange(1, 128, 1)\n",
    "\n",
    "\n",
    "\n",
    "    def multi_fn(i):\n",
    "        \"\"\" Wrapper function for multiprocessing\n",
    "\n",
    "        \"\"\"\n",
    "\n",
    "        result = BICS_ABM(\n",
    "            N_HH = 1000, \n",
    "            silent = True, \n",
    "        )\n",
    "\n",
    "        return 0\n",
    "\n",
    "\n",
    "    tlist = list()\n",
    "    jlist = [4, 8, 16, 32, 64, 128]\n",
    "    for jobs in jlist:\n",
    "        t = time.time()\n",
    "        Parallel(n_jobs=jobs, verbose = 10, prefer=\"threads\")(delayed(multi_fn)(v) for v in reps)\n",
    "        t = time.time() - t\n",
    "        tlist.append(t)\n",
    "\n",
    "    plt.scatter(jlist, tlist)"
   ]
  }
 ],
 "metadata": {
  "kernelspec": {
   "display_name": "Python 3 (ipykernel)",
   "language": "python",
   "name": "python3"
  },
  "language_info": {
   "codemirror_mode": {
    "name": "ipython",
    "version": 3
   },
   "file_extension": ".py",
   "mimetype": "text/x-python",
   "name": "python",
   "nbconvert_exporter": "python",
   "pygments_lexer": "ipython3",
   "version": "3.8.5"
  }
 },
 "nbformat": 4,
 "nbformat_minor": 5
}
