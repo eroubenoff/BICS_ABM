{
 "cells": [
  {
   "cell_type": "markdown",
   "id": "2fe18723",
   "metadata": {},
   "source": [
    "# BICS_ABM\n",
    "Ethan Roubenoff"
   ]
  },
  {
   "cell_type": "code",
   "execution_count": 3,
   "id": "a4107641",
   "metadata": {
    "scrolled": true
   },
   "outputs": [
    {
     "name": "stderr",
     "output_type": "stream",
     "text": [
      "/Users/eroubenoff/BICS_ABM/BICS_ABM.py:77: DtypeWarning: Columns (26,63,64,65,66,68,69,70,71,72,73,76,86,139,140,149,175,176,177,191,195,205,213,214,215,216,217,218,219,220,221,222,223,224,225,227,228,229) have mixed types. Specify dtype option on import or set low_memory=False.\n",
      "  def load_data():\n"
     ]
    }
   ],
   "source": [
    "import numpy as np\n",
    "import pandas as pd\n",
    "import matplotlib.pyplot as plt\n",
    "from BICS_ABM import BICS_ABM, VaccineRule\n",
    "import time\n",
    "from joblib import Parallel, delayed, Memory"
   ]
  },
  {
   "cell_type": "markdown",
   "id": "96feab87",
   "metadata": {},
   "source": [
    "## Quick, demonstrative example:"
   ]
  },
  {
   "cell_type": "code",
   "execution_count": null,
   "id": "238808df",
   "metadata": {},
   "outputs": [],
   "source": [
    "result = BICS_ABM( \n",
    "        N_HH = 10000,\n",
    "        SEED = 4949, \n",
    "        RHO = 0.9,\n",
    "        ALPHA = 0.25,\n",
    "        BETA = 0.01,\n",
    "        T0 = 60,\n",
    "        ISOLATION_MULTIPLIER = 0.1, \n",
    "        N_VAX_DAILY = 1500,\n",
    "        vax_rules = [\n",
    "            VaccineRule(\"age > 80\"),\n",
    "            VaccineRule(\"age > 70\"),\n",
    "            VaccineRule(\"age > 60\"),\n",
    "            VaccineRule(\"age > 50\", hesitancy = 0.5),\n",
    "            VaccineRule(\"age > 40\", hesitancy = 0.5),\n",
    "            VaccineRule(\"age > 30\", hesitancy = 0.5),\n",
    "            VaccineRule(general = True, hesitancy = 0.5),\n",
    "        ])\n",
    "\n",
    "result.plot_trajectory()"
   ]
  },
  {
   "cell_type": "markdown",
   "id": "04553261",
   "metadata": {},
   "source": [
    "## Another demonstrative example\n",
    "\n",
    "Vary beta (probability of transmission from 0 to 0.1 in increments of 0.001. Run 10 simulations of each value for  beta. Plot the number of deaths against beta."
   ]
  },
  {
   "cell_type": "code",
   "execution_count": null,
   "id": "9655160f",
   "metadata": {},
   "outputs": [],
   "source": [
    "beta_vec = np.arange(0, 0.1, 0.001)\n",
    "beta_vec = beta_vec.repeat(10)\n",
    "result_vec= np.zeros(beta_vec.shape) \n",
    "\n",
    "t = time.time()\n",
    "for i, v in enumerate(beta_vec):\n",
    "    print(i, \"of\", len(beta_vec), \"sims\", end = \"\\r\")\n",
    "    time.sleep(0) # To make carraige return work\n",
    "    result = BICS_ABM(BETA = v, N_HH = 100, silent = True)\n",
    "    result_vec[i] = result.D[-1] / (result.S[0] + result.E[0])\n",
    "    \n",
    "t = time.time() - t\n",
    "\n",
    "print(len(beta_vec), \"iterations took\", t, \"seconds\")"
   ]
  },
  {
   "cell_type": "code",
   "execution_count": null,
   "id": "cf17b56f",
   "metadata": {},
   "outputs": [],
   "source": [
    "plt.scatter(beta_vec, result_vec*100)\n"
   ]
  },
  {
   "cell_type": "markdown",
   "id": "b72d44f0",
   "metadata": {},
   "source": [
    "# Main analysis\n",
    "\n",
    "Run simulations that gradually decrease number of nonhousehold contacts required for priority access. Start at 30\n",
    "and work down. Begin by assuming no asymptomatic transmission and 70% symptomatic rate, no isolation.\n",
    "\n",
    "\n",
    "Run 10 simulations for each, and chart the number of deaths."
   ]
  },
  {
   "cell_type": "code",
   "execution_count": 2,
   "id": "40f14296",
   "metadata": {},
   "outputs": [
    {
     "ename": "NameError",
     "evalue": "name 'Memory' is not defined",
     "output_type": "error",
     "traceback": [
      "\u001b[0;31m---------------------------------------------------------------------------\u001b[0m",
      "\u001b[0;31mNameError\u001b[0m                                 Traceback (most recent call last)",
      "Cell \u001b[0;32mIn [2], line 3\u001b[0m\n\u001b[1;32m      1\u001b[0m \u001b[38;5;66;03m# Define a location to store cache\u001b[39;00m\n\u001b[1;32m      2\u001b[0m location \u001b[38;5;241m=\u001b[39m \u001b[38;5;124m'\u001b[39m\u001b[38;5;124m./cache\u001b[39m\u001b[38;5;124m'\u001b[39m\n\u001b[0;32m----> 3\u001b[0m memory \u001b[38;5;241m=\u001b[39m \u001b[43mMemory\u001b[49m(location, verbose\u001b[38;5;241m=\u001b[39m\u001b[38;5;241m0\u001b[39m)\n",
      "\u001b[0;31mNameError\u001b[0m: name 'Memory' is not defined"
     ]
    }
   ],
   "source": [
    "# Define a location to store cache\n",
    "location = './cache'\n",
    "memory = Memory(location, verbose=0)"
   ]
  },
  {
   "cell_type": "code",
   "execution_count": null,
   "id": "4d11a6ca",
   "metadata": {},
   "outputs": [],
   "source": [
    "cc_min = np.arange(25, 1, -1)\n",
    "cc_min = cc_min.repeat(100)\n",
    "\n",
    "t = time.time()\n",
    "\n",
    "\n",
    "def multi_fn(i):\n",
    "    \"\"\" Wrapper function for multiprocessing\n",
    "    \n",
    "    \"\"\"\n",
    "    \n",
    "    result = BICS_ABM(\n",
    "        # 1000 HHs, approx 3000 people, and 10% chance of transmission\n",
    "        N_HH = 1000, BETA = 0.01,\n",
    "        # No presymptomatic transmission, all cases are symptomatic\n",
    "        ALPHA = 0, RHO = 1, \n",
    "        # No isolation\n",
    "        ISOLATION_MULTIPLIER = 1,\n",
    "        silent = True , \n",
    "        vax_rules = [\n",
    "            VaccineRule(\"num_cc_nonhh > \" + str(i)) \n",
    "        ]\n",
    "    )\n",
    "    \n",
    "    return result.D[-1] / (result.S[0] + result.E[0])\n",
    "    \n",
    "    \n",
    "multi_fn = memory.cache(multi_fn)\n",
    "# 10 is about the efficiency limit-- 2400 cycles will take about 7 mins\n",
    "result_vec = Parallel(n_jobs=10, verbose = 50, prefer=\"threads\")(delayed(multi_fn)(v) for v in cc_min)\n",
    "    \n",
    "    \n",
    "t = time.time() - t\n",
    "\n",
    "print(len(cc_min), \"iterations took\", t, \"seconds\")\n",
    "\n",
    "plt.scatter(cc_min, result_vec)"
   ]
  },
  {
   "cell_type": "code",
   "execution_count": null,
   "id": "f99dece1",
   "metadata": {},
   "outputs": [],
   "source": [
    "import gc; gc.collect()"
   ]
  },
  {
   "cell_type": "code",
   "execution_count": null,
   "id": "f4906ca5",
   "metadata": {},
   "outputs": [],
   "source": [
    "result.plot_trajectory()"
   ]
  }
 ],
 "metadata": {
  "kernelspec": {
   "display_name": "Python 3 (ipykernel)",
   "language": "python",
   "name": "python3"
  },
  "language_info": {
   "codemirror_mode": {
    "name": "ipython",
    "version": 3
   },
   "file_extension": ".py",
   "mimetype": "text/x-python",
   "name": "python",
   "nbconvert_exporter": "python",
   "pygments_lexer": "ipython3",
   "version": "3.8.5"
  }
 },
 "nbformat": 4,
 "nbformat_minor": 5
}
