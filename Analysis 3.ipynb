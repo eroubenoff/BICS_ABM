{
 "cells": [
  {
   "cell_type": "code",
   "execution_count": 1,
   "id": "053fbc7b",
   "metadata": {},
   "outputs": [
    {
     "ename": "OSError",
     "evalue": "dlopen(/Users/eroubenoff/BICS_ABM/build/libBICS_ABM_lib.so, 0x0006): tried: '/Users/eroubenoff/BICS_ABM/build/libBICS_ABM_lib.so' (no such file)",
     "output_type": "error",
     "traceback": [
      "\u001b[0;31m---------------------------------------------------------------------------\u001b[0m",
      "\u001b[0;31mOSError\u001b[0m                                   Traceback (most recent call last)",
      "Cell \u001b[0;32mIn [1], line 4\u001b[0m\n\u001b[1;32m      2\u001b[0m \u001b[38;5;28;01mimport\u001b[39;00m \u001b[38;5;21;01mpandas\u001b[39;00m \u001b[38;5;28;01mas\u001b[39;00m \u001b[38;5;21;01mpd\u001b[39;00m\n\u001b[1;32m      3\u001b[0m \u001b[38;5;28;01mimport\u001b[39;00m \u001b[38;5;21;01mmatplotlib\u001b[39;00m\u001b[38;5;21;01m.\u001b[39;00m\u001b[38;5;21;01mpyplot\u001b[39;00m \u001b[38;5;28;01mas\u001b[39;00m \u001b[38;5;21;01mplt\u001b[39;00m\n\u001b[0;32m----> 4\u001b[0m \u001b[38;5;28;01mfrom\u001b[39;00m \u001b[38;5;21;01mBICS_ABM\u001b[39;00m \u001b[38;5;28;01mimport\u001b[39;00m BICS_ABM, VaccineRule\n\u001b[1;32m      5\u001b[0m \u001b[38;5;28;01mimport\u001b[39;00m \u001b[38;5;21;01mtime\u001b[39;00m\n\u001b[1;32m      6\u001b[0m \u001b[38;5;28;01mfrom\u001b[39;00m \u001b[38;5;21;01mjoblib\u001b[39;00m \u001b[38;5;28;01mimport\u001b[39;00m Parallel, delayed\n",
      "File \u001b[0;32m~/BICS_ABM/BICS_ABM.py:13\u001b[0m\n\u001b[1;32m     11\u001b[0m path \u001b[38;5;241m=\u001b[39m os\u001b[38;5;241m.\u001b[39mgetcwd()\n\u001b[1;32m     12\u001b[0m path \u001b[38;5;241m=\u001b[39m os\u001b[38;5;241m.\u001b[39mpath\u001b[38;5;241m.\u001b[39mjoin(path, \u001b[38;5;124m\"\u001b[39m\u001b[38;5;124mbuild\u001b[39m\u001b[38;5;124m\"\u001b[39m, \u001b[38;5;124m\"\u001b[39m\u001b[38;5;124mlibBICS_ABM_lib.so\u001b[39m\u001b[38;5;124m\"\u001b[39m)\n\u001b[0;32m---> 13\u001b[0m _BICS_ABM \u001b[38;5;241m=\u001b[39m \u001b[43mctypes\u001b[49m\u001b[38;5;241;43m.\u001b[39;49m\u001b[43mCDLL\u001b[49m\u001b[43m(\u001b[49m\u001b[43mpath\u001b[49m\u001b[43m)\u001b[49m\n\u001b[1;32m     16\u001b[0m \u001b[38;5;28;01mdef\u001b[39;00m \u001b[38;5;21mrecode_age\u001b[39m(age):\n\u001b[1;32m     18\u001b[0m     \u001b[38;5;28;01mif\u001b[39;00m np\u001b[38;5;241m.\u001b[39misnan(age):\n",
      "File \u001b[0;32m~/miniconda3/lib/python3.8/ctypes/__init__.py:381\u001b[0m, in \u001b[0;36mCDLL.__init__\u001b[0;34m(self, name, mode, handle, use_errno, use_last_error, winmode)\u001b[0m\n\u001b[1;32m    378\u001b[0m \u001b[38;5;28mself\u001b[39m\u001b[38;5;241m.\u001b[39m_FuncPtr \u001b[38;5;241m=\u001b[39m _FuncPtr\n\u001b[1;32m    380\u001b[0m \u001b[38;5;28;01mif\u001b[39;00m handle \u001b[38;5;129;01mis\u001b[39;00m \u001b[38;5;28;01mNone\u001b[39;00m:\n\u001b[0;32m--> 381\u001b[0m     \u001b[38;5;28mself\u001b[39m\u001b[38;5;241m.\u001b[39m_handle \u001b[38;5;241m=\u001b[39m \u001b[43m_dlopen\u001b[49m\u001b[43m(\u001b[49m\u001b[38;5;28;43mself\u001b[39;49m\u001b[38;5;241;43m.\u001b[39;49m\u001b[43m_name\u001b[49m\u001b[43m,\u001b[49m\u001b[43m \u001b[49m\u001b[43mmode\u001b[49m\u001b[43m)\u001b[49m\n\u001b[1;32m    382\u001b[0m \u001b[38;5;28;01melse\u001b[39;00m:\n\u001b[1;32m    383\u001b[0m     \u001b[38;5;28mself\u001b[39m\u001b[38;5;241m.\u001b[39m_handle \u001b[38;5;241m=\u001b[39m handle\n",
      "\u001b[0;31mOSError\u001b[0m: dlopen(/Users/eroubenoff/BICS_ABM/build/libBICS_ABM_lib.so, 0x0006): tried: '/Users/eroubenoff/BICS_ABM/build/libBICS_ABM_lib.so' (no such file)"
     ]
    }
   ],
   "source": [
    "import numpy as np\n",
    "import pandas as pd\n",
    "import matplotlib.pyplot as plt\n",
    "from BICS_ABM import BICS_ABM, VaccineRule\n",
    "import time\n",
    "from joblib import Parallel, delayed\n",
    "from scipy.stats.qmc import LatinHypercube\n",
    "from scipy.stats import norm, uniform, randint\n",
    "\n",
    "import collections\n",
    "import re\n",
    "\n",
    "import datetime\n",
    "import pickle\n",
    "import dill\n",
    "\n",
    "from scipy.signal import find_peaks"
   ]
  },
  {
   "cell_type": "markdown",
   "id": "39cf52e9",
   "metadata": {},
   "source": [
    "# Analysis for new idea: Vaccine timing and outbreak cycles\n",
    "\n",
    "Begin by developing treatment combinations"
   ]
  },
  {
   "cell_type": "code",
   "execution_count": null,
   "id": "b5e5e99e",
   "metadata": {},
   "outputs": [],
   "source": [
    "dirname = \"sims/2023-02-21/\"\n",
    "flist = [dirname + x for x in os.listdir(dirname) if '.pgz' in x]"
   ]
  },
  {
   "cell_type": "code",
   "execution_count": null,
   "id": "2e3d1ddf",
   "metadata": {},
   "outputs": [],
   "source": [
    "# Functions for analysis\n",
    "from scipy.signal import find_peaks\n",
    "\n",
    "def process_sim(f):\n",
    "    # Parse beta0 and beta1 from file name\n",
    "    beta = {s.split(\"_\")[0]: float(s.split(\"_\")[1]) for s in f.split(\"/\")[2].split(\"__\")[0:2]}\n",
    "    with gzip.open(f, 'rb') as f:\n",
    "        sim = pickle.load(f)\n",
    "        \n",
    "    vu = np.mean(sim._pop[:,[i for i,x in enumerate(sim._colnames) if x == \"vaccine_priority\" ][0]] == 0)\n",
    "    \n",
    "    ret = {**beta, \n",
    "            'T_REINFECTION': sim._params.T_REINFECTION,\n",
    "              'BOOSTER_DAY': sim._params.BOOSTER_DAY,\n",
    "              'VEBOOST': sim._params.VEBOOST,\n",
    "              'VU': vu}\n",
    "    N = sim.S[0] + sim.E[0]\n",
    "    threshold = N * 0.01\n",
    "    threshold= 2\n",
    "    x = np.add.reduceat(sim.Cc, np.arange(0, len(sim.Cc), 24))\n",
    "    peaks, properties = find_peaks(x, height=threshold, distance=30, width=1, rel_height=1)\n",
    "    \n",
    "    count = []\n",
    "    for i in range(len(properties[\"left_ips\"])):\n",
    "        left_bound = round(properties[\"left_ips\"][i])\n",
    "        right_bound = round(properties[\"right_ips\"][i])\n",
    "        count.append(sum(x[left_bound:right_bound]))\n",
    "            \n",
    "    ret[\"num_outbreaks\"] = len(peaks)\n",
    "    ret[\"mean_time_bw_outbreaks\"] = np.mean(np.diff(peaks))\n",
    "    ret[\"avg_outbreak_size\"] = np.mean(count)\n",
    "    \n",
    "    return ret\n",
    "    "
   ]
  },
  {
   "cell_type": "code",
   "execution_count": null,
   "id": "b89751c9",
   "metadata": {},
   "outputs": [],
   "source": [
    "processed_sims = []\n",
    "for i, fname in enumerate(flist):\n",
    "    print(i, end=\"\\r\")\n",
    "    processed_sims.append(process_sim(fname))\n"
   ]
  },
  {
   "cell_type": "code",
   "execution_count": null,
   "id": "3800dcd1",
   "metadata": {},
   "outputs": [],
   "source": [
    "processed_sims = pd.DataFrame(processed_sims)"
   ]
  },
  {
   "cell_type": "code",
   "execution_count": null,
   "id": "7db92af1",
   "metadata": {},
   "outputs": [],
   "source": [
    "fig, ax = plt.subplots(ncols=3,figsize= (10,5))\n",
    "ax[0].plot(processed_sims.T_REINFECTION/24, processed_sims.num_outbreaks, \".\", )\n",
    "ax[0].set_title(\"Number of Outbreaks\")\n",
    "ax[0].set_xlabel(\"Time until reinfection (days)\")\n",
    "ax[1].plot(processed_sims.T_REINFECTION/24, processed_sims.mean_time_bw_outbreaks, \".\")\n",
    "ax[1].set_title(\"Avg. Time Between Outbreaks (days)\")\n",
    "ax[1].set_xlabel(\"Time until reinfection (days)\")\n",
    "ax[2].plot(processed_sims.T_REINFECTION/24, processed_sims.avg_outbreak_size, \".\")\n",
    "ax[2].set_title(\"Avg. Outbreak Size\")\n",
    "ax[2].set_xlabel(\"Time until reinfection (days)\")"
   ]
  },
  {
   "cell_type": "code",
   "execution_count": null,
   "id": "613d5054",
   "metadata": {},
   "outputs": [],
   "source": [
    "processed_sims.groupby([\"T_REINFECTION\"]).agg(np.mean)"
   ]
  },
  {
   "cell_type": "code",
   "execution_count": null,
   "id": "4c0b8a20",
   "metadata": {},
   "outputs": [],
   "source": [
    "fig, ax = plt.subplots(ncols=3,figsize= (10,5))\n",
    "ax[0].plot(processed_sims.BOOSTER_DAY, processed_sims.num_outbreaks, \".\", )\n",
    "ax[0].set_title(\"Number of Outbreaks\")\n",
    "ax[0].set_xlabel(\"Booster Day\")\n",
    "ax[1].plot(processed_sims.BOOSTER_DAY, processed_sims.mean_time_bw_outbreaks, \".\")\n",
    "ax[1].set_title(\"Avg. Time Between Outbreaks (days)\")\n",
    "ax[1].set_xlabel(\"Booster Day\")\n",
    "ax[2].plot(processed_sims.BOOSTER_DAY, processed_sims.avg_outbreak_size, \".\")\n",
    "ax[2].set_title(\"Avg. Outbreak Size\")\n",
    "ax[2].set_xlabel(\"Booster Day\")"
   ]
  },
  {
   "cell_type": "code",
   "execution_count": null,
   "id": "9a788f86",
   "metadata": {},
   "outputs": [],
   "source": [
    "processed_sims.groupby([\"BOOSTER_DAY\"]).agg(np.mean)"
   ]
  },
  {
   "cell_type": "code",
   "execution_count": null,
   "id": "44060066",
   "metadata": {},
   "outputs": [],
   "source": [
    "def closest_value(input_list, input_value):\n",
    " \n",
    "  arr = np.asarray(input_list)\n",
    " \n",
    "  i = (np.abs(arr - input_value)).argmin()\n",
    " \n",
    "  return arr[i]\n",
    "\n",
    "processed_sims[\"VU_rounded\"] = [closest_value([0.25, 0.5, 0.75], x) for x in processed_sims.VU]\n",
    "\n",
    "fig, ax = plt.subplots(ncols=3,figsize= (10,5))\n",
    "ax[0].plot(processed_sims.VU_rounded, processed_sims.num_outbreaks, \".\", )\n",
    "ax[0].set_title(\"Number of Outbreaks\")\n",
    "ax[0].set_xlabel(\"Vaccine Uptake Rate\")\n",
    "ax[1].plot(processed_sims.VU_rounded, processed_sims.mean_time_bw_outbreaks, \".\")\n",
    "ax[1].set_title(\"Avg. Time Between Outbreaks (days)\")\n",
    "ax[1].set_xlabel(\"Vaccine Uptake Rate\")\n",
    "ax[2].plot(processed_sims.VU_rounded, processed_sims.avg_outbreak_size, \".\")\n",
    "ax[2].set_title(\"Avg. Outbreak Size\")\n",
    "ax[2].set_xlabel(\"Vaccine Uptake Rate\")"
   ]
  },
  {
   "cell_type": "code",
   "execution_count": null,
   "id": "28a1a14e",
   "metadata": {},
   "outputs": [],
   "source": [
    "processed_sims.groupby([\"VU_rounded\"]).agg(np.mean)"
   ]
  },
  {
   "cell_type": "markdown",
   "id": "93065154",
   "metadata": {},
   "source": [
    "# Calculating Average Treatment Effect"
   ]
  },
  {
   "cell_type": "markdown",
   "id": "5489be8d",
   "metadata": {},
   "source": [
    "6 treatment variables: BETA0, BETA1, T_REINFECTION, VEBOOST, VU_rounded, BOOSTER_DAY\n",
    "\n",
    "3 outcome variables: num_outbreaks, mean_time_bw_outbreaks, avg_outbreak_size\n"
   ]
  },
  {
   "cell_type": "code",
   "execution_count": null,
   "id": "308b6b1f",
   "metadata": {},
   "outputs": [],
   "source": [
    "processed_sims.groupby([\"BETA0\", \"BETA1\", \"T_REINFECTION\", \"VEBOOST\", \"BOOSTER_DAY\", \"VU_rounded\"]).agg(np.mean)"
   ]
  },
  {
   "cell_type": "code",
   "execution_count": null,
   "id": "e7f59dd5",
   "metadata": {},
   "outputs": [],
   "source": [
    "np.mean(processed_sims[processed_sims.BETA1 > 0.5].avg_outbreak_size)\n",
    "np.mean(processed_sims[processed_sims.BETA1 < 0.5].avg_outbreak_size)"
   ]
  },
  {
   "cell_type": "markdown",
   "id": "ff7439f8",
   "metadata": {},
   "source": [
    "## Booster Day"
   ]
  },
  {
   "cell_type": "code",
   "execution_count": null,
   "id": "6c54faeb",
   "metadata": {},
   "outputs": [],
   "source": [
    "# Let's start with one easy one. BOOSTER_DAY = march 1st (day 59) vs sept 1st (243)\n",
    "booster_day_df = processed_sims.drop(\n",
    "    \"VU\", axis=1\n",
    ").pivot_table(\n",
    "    index = [\"BETA0\", \"BETA1\", \"T_REINFECTION\", \"VEBOOST\", \"VU_rounded\"],\n",
    "    columns = \"BOOSTER_DAY\",\n",
    "    values = [\"num_outbreaks\", \"mean_time_bw_outbreaks\", \"avg_outbreak_size\"])\n",
    "booster_day_df"
   ]
  },
  {
   "cell_type": "code",
   "execution_count": null,
   "id": "b073a5f1",
   "metadata": {},
   "outputs": [],
   "source": [
    "for i in range(1, 12):\n",
    "    m1 = booster_day_df.avg_outbreak_size.columns[i]\n",
    "    m0 = booster_day_df.avg_outbreak_size.columns[i-1]\n",
    "    \n",
    "    mte = np.mean(booster_day_df[\"avg_outbreak_size\"][m1] - booster_day_df[\"avg_outbreak_size\"][m0])\n",
    "    mte = np.mean(booster_day_df[\"mean_time_bw_outbreaks\"][m1] - booster_day_df[\"mean_time_bw_outbreaks\"][m0])\n",
    "    mte = np.mean(booster_day_df[\"num_outbreaks\"][m1] - booster_day_df[\"num_outbreaks\"][m0])\n",
    "    \n",
    "    print(mte)"
   ]
  },
  {
   "cell_type": "markdown",
   "id": "79e6b3a7",
   "metadata": {},
   "source": [
    "## Vaccine uptake"
   ]
  },
  {
   "cell_type": "code",
   "execution_count": null,
   "id": "22ae0639",
   "metadata": {
    "scrolled": false
   },
   "outputs": [],
   "source": [
    "vu_df = processed_sims.drop(\n",
    "    \"VU\", axis=1\n",
    ").pivot_table(\n",
    "    index = [\"BETA0\", \"BETA1\", \"T_REINFECTION\", \"VEBOOST\", \"BOOSTER_DAY\"],\n",
    "    columns = \"VU_rounded\",\n",
    "    values = [\"num_outbreaks\", \"mean_time_bw_outbreaks\", \"avg_outbreak_size\"])\n",
    "vu_df"
   ]
  },
  {
   "cell_type": "code",
   "execution_count": null,
   "id": "e34518ac",
   "metadata": {},
   "outputs": [],
   "source": [
    "fig, ax = plt.subplots(3, figsize=(5,10))\n",
    "\n",
    "outcomes = [\"avg_outbreak_size\", \"mean_time_bw_outbreaks\", \"num_outbreaks\"]\n",
    "\n",
    "for i, o in enumerate(outcomes):\n",
    "    v25 = []\n",
    "    v50 = []\n",
    "    v75 = []\n",
    "    b0_vec = vu_df[o].index.levels[0]\n",
    "    for b0 in b0_vec:\n",
    "\n",
    "        v25.append(np.mean(vu_df[o][0.25].loc[b0]))\n",
    "        v50.append(np.mean(vu_df[o][0.50].loc[b0]))\n",
    "        v75.append(np.mean(vu_df[o][0.75].loc[b0]))\n",
    "\n",
    "    ax[i].plot(b0_vec, v25, \"--go\", label = \"25% Vaccine Uptake\")\n",
    "    ax[i].plot(b0_vec, v50, \"--bo\", label = \"50% Vaccine Uptake\")\n",
    "    ax[i].plot(b0_vec, v75, \"--ro\", label = \"75% Vaccine Uptake\")\n",
    "    \n",
    "    \n",
    "ax[0].legend()\n",
    "    \n",
    "# ax[0].set_title(\"Higher Vaccine Uptake reduces outbreak size at all transmission probabilities\")\n",
    "ax[0].set_xlabel(\"Average Probability of Transmission\")\n",
    "ax[0].set_ylabel(\"Average Size of of Outbreaks\")\n",
    "ax[1].set_xlabel(\"Average Probability of Transmission\")\n",
    "ax[1].set_ylabel(\"Average Time Between Outbreaks (days)\")\n",
    "ax[2].set_xlabel(\"Average Probability of Transmission\")\n",
    "ax[2].set_ylabel(\"Average Number of Outbreaks\")\n",
    "#ax[0].set_ylabel(\"Average Clinical Infections per Outbreak\")\n",
    "\n",
    "plt.suptitle(\"Higher Vaccine Uptake reduces outbreak size, but increases frequency\")\n",
    "plt.show()\n"
   ]
  },
  {
   "cell_type": "code",
   "execution_count": null,
   "id": "dda3dd71",
   "metadata": {},
   "outputs": [],
   "source": [
    "fig, ax = plt.subplots()\n",
    "\n",
    "v25 = []\n",
    "v50 = []\n",
    "v75 = []\n",
    "b1_vec = vu_df[\"avg_outbreak_size\"].index.levels[1]\n",
    "for b1 in b1_vec:\n",
    "    \n",
    "    v25.append(np.mean(vu_df[\"avg_outbreak_size\"][0.25].loc[:, b1]))\n",
    "    v50.append(np.mean(vu_df[\"avg_outbreak_size\"][0.50].loc[:, b1]))\n",
    "    v75.append(np.mean(vu_df[\"avg_outbreak_size\"][0.75].loc[:, b1]))\n",
    "    \n",
    "ax.plot(b1_vec, v25, \"--go\", label = \"25% Vaccine Uptake\")\n",
    "ax.plot(b1_vec, v50, \"--bo\", label = \"50% Vaccine Uptake\")\n",
    "ax.plot(b1_vec, v75, \"--ro\", label = \"75% Vaccine Uptake\")\n",
    "ax.legend()\n",
    "ax.set_title(\"Higher Vaccine Uptake reduces outbreak size at all forcing amplitudes\")\n",
    "ax.set_xlabel(\"Amplitude of Seasonal Forcing\")\n",
    "ax.set_ylabel(\"Average Clinical Infections per Outbreak\")\n",
    "    \n",
    "plt.show()\n",
    "\n"
   ]
  },
  {
   "cell_type": "markdown",
   "id": "2daece5d",
   "metadata": {},
   "source": [
    "# Month of Vaccination"
   ]
  },
  {
   "cell_type": "code",
   "execution_count": null,
   "id": "1e14f84e",
   "metadata": {},
   "outputs": [],
   "source": [
    "bd_df = processed_sims.drop(\n",
    "    \"VU\", axis=1\n",
    ").pivot_table(\n",
    "    index = [\"BETA0\", \"BETA1\", \"T_REINFECTION\", \"VEBOOST\", \"VU_rounded\"],\n",
    "    columns = \"BOOSTER_DAY\",\n",
    "    values = [\"num_outbreaks\", \"mean_time_bw_outbreaks\", \"avg_outbreak_size\"])\n",
    "\n",
    "fig, ax = plt.subplots(3, figsize=(5,10))\n",
    "\n",
    "outcomes = [\"avg_outbreak_size\", \"mean_time_bw_outbreaks\", \"num_outbreaks\"]\n",
    "months = bd_df[\"num_outbreaks\"].columns\n",
    "\n",
    "for i, o in enumerate(outcomes):\n",
    "    df = pd.DataFrame(columns = months)\n",
    "    b0_vec = bd_df[o].index.levels[0]\n",
    "    for b0 in b0_vec:\n",
    "        tmp = pd.DataFrame([{k: np.mean(bd_df[o][k].loc[b0]) for k in months}])\n",
    "        df = pd.concat([df, tmp], ignore_index=True)\n",
    "\n",
    "    for m in months:\n",
    "        ax[i].plot(b0_vec, df.loc[:,m], \"--o\", label = m)\n",
    "    \n",
    "    \n",
    "ax[0].legend()\n",
    "    \n",
    "ax[0].set_xlabel(\"Average Probability of Transmission\")\n",
    "ax[0].set_ylabel(\"Average Size of of Outbreaks\")\n",
    "ax[1].set_xlabel(\"Average Probability of Transmission\")\n",
    "ax[1].set_ylabel(\"Average Time Between Outbreaks (days)\")\n",
    "ax[2].set_xlabel(\"Average Probability of Transmission\")\n",
    "ax[2].set_ylabel(\"Average Number of Outbreaks\")\n",
    "\n",
    "plt.suptitle(\"No obvious effect of Month of Vaccination on outcomes across b0\")\n",
    "plt.show()\n"
   ]
  },
  {
   "cell_type": "code",
   "execution_count": null,
   "id": "e4c15aa8",
   "metadata": {},
   "outputs": [],
   "source": [
    "bd_df = processed_sims.drop(\n",
    "    \"VU\", axis=1\n",
    ").pivot_table(\n",
    "    index = [\"BETA0\", \"BETA1\", \"T_REINFECTION\", \"VEBOOST\", \"VU_rounded\"],\n",
    "    columns = \"BOOSTER_DAY\",\n",
    "    values = [\"num_outbreaks\", \"mean_time_bw_outbreaks\", \"avg_outbreak_size\"])\n",
    "\n",
    "fig, ax = plt.subplots(3, figsize=(5,10))\n",
    "\n",
    "outcomes = [\"avg_outbreak_size\", \"mean_time_bw_outbreaks\", \"num_outbreaks\"]\n",
    "months = bd_df[\"num_outbreaks\"].columns\n",
    "\n",
    "for i, o in enumerate(outcomes):\n",
    "    df = pd.DataFrame(columns = months)\n",
    "    b1_vec = bd_df[o].index.levels[1]\n",
    "    for b1 in b1_vec:\n",
    "        tmp = pd.DataFrame([{k: np.mean(bd_df[o][k].loc[:,b1]) for k in months}])\n",
    "        df = pd.concat([df, tmp], ignore_index=True)\n",
    "\n",
    "    for m in months:\n",
    "        ax[i].plot(b1_vec, df.loc[:,m], \"--o\", label = m)\n",
    "    \n",
    "    \n",
    "ax[0].legend()\n",
    "    \n",
    "ax[0].set_xlabel(\"Amplitude of Seasonal Forcing\")\n",
    "ax[0].set_ylabel(\"Average Size of of Outbreaks\")\n",
    "ax[1].set_xlabel(\"Amplitude of Seasonal Forcing\")\n",
    "ax[1].set_ylabel(\"Average Time Between Outbreaks (days)\")\n",
    "ax[2].set_xlabel(\"Amplitude of Seasonal Forcing\")\n",
    "ax[2].set_ylabel(\"Average Number of Outbreaks\")\n",
    "\n",
    "plt.suptitle(\"No obvious effect of Month of Vaccination on outcomes across b0\")\n",
    "plt.show()\n"
   ]
  },
  {
   "cell_type": "markdown",
   "id": "03d28a72",
   "metadata": {},
   "source": [
    "## Month of vaccination with t_reinf"
   ]
  },
  {
   "cell_type": "code",
   "execution_count": null,
   "id": "8c89dcde",
   "metadata": {},
   "outputs": [],
   "source": [
    "bd_df = processed_sims.drop(\n",
    "    \"VU\", axis=1\n",
    ").pivot_table(\n",
    "    index = [\"BETA0\", \"BETA1\", \"T_REINFECTION\", \"VEBOOST\", \"VU_rounded\"],\n",
    "    columns = \"BOOSTER_DAY\",\n",
    "    values = [\"num_outbreaks\", \"mean_time_bw_outbreaks\", \"avg_outbreak_size\"])\n",
    "\n",
    "fig, ax = plt.subplots(3, figsize=(5,10))\n",
    "\n",
    "outcomes = [\"avg_outbreak_size\", \"mean_time_bw_outbreaks\", \"num_outbreaks\"]\n",
    "months = bd_df[\"num_outbreaks\"].columns\n",
    "\n",
    "for i, o in enumerate(outcomes):\n",
    "    df = pd.DataFrame(columns = months)\n",
    "    t_vec = bd_df[o].index.levels[2]\n",
    "    for t in t_vec:\n",
    "        tmp = pd.DataFrame([{k: np.mean(bd_df[o][k].loc[:,:,t]) for k in months}])\n",
    "        df = pd.concat([df, tmp], ignore_index=True)\n",
    "\n",
    "    for m in months:\n",
    "        ax[i].plot(t_vec, df.loc[:,m], \"--o\", label = m)\n",
    "    \n",
    "    \n",
    "ax[0].legend()\n",
    "    \n",
    "ax[0].set_xlabel(\"Amplitude of Seasonal Forcing\")\n",
    "ax[0].set_ylabel(\"Average Size of of Outbreaks\")\n",
    "ax[1].set_xlabel(\"Amplitude of Seasonal Forcing\")\n",
    "ax[1].set_ylabel(\"Average Time Between Outbreaks (days)\")\n",
    "ax[2].set_xlabel(\"Amplitude of Seasonal Forcing\")\n",
    "ax[2].set_ylabel(\"Average Number of Outbreaks\")\n",
    "\n",
    "plt.suptitle(\"No obvious effect of Month of Vaccination on outcomes across b0\")\n",
    "plt.show()\n"
   ]
  },
  {
   "cell_type": "markdown",
   "id": "fd1b56e8",
   "metadata": {},
   "source": [
    "# How does transmission affect?"
   ]
  },
  {
   "cell_type": "code",
   "execution_count": null,
   "id": "f0e567b2",
   "metadata": {},
   "outputs": [],
   "source": [
    "import seaborn as sns"
   ]
  },
  {
   "cell_type": "code",
   "execution_count": null,
   "id": "734c5203",
   "metadata": {},
   "outputs": [],
   "source": [
    "# To do this, group simulations by transmission parameters\n",
    "\n",
    "# processed_sims.groupby([\"BETA0\", \"BETA1\"])\n",
    "arr = processed_sims[processed_sims.BOOSTER_DAY == 31][[\"BETA0\", \"BETA1\", \"avg_outbreak_size\"]]\n",
    "print(arr)\n",
    "#arr.pivot(\"BETA0\", \"BETA1\", \"avg_outbreak_size\")\n",
    "#sns.heatmap(data=arr, x=\"BETA0\", y=\"BETA1\", hue=\"avg_outbreak_size\")"
   ]
  },
  {
   "cell_type": "code",
   "execution_count": null,
   "id": "355d6090",
   "metadata": {},
   "outputs": [],
   "source": [
    "import statsmodels.api as sm"
   ]
  },
  {
   "cell_type": "code",
   "execution_count": null,
   "id": "def1ad23",
   "metadata": {},
   "outputs": [],
   "source": [
    "model = sm.OLS(processed_sims[\"avg_outbreak_size\"],\n",
    "               processed_sims[[\"BETA0\", \"BETA1\", \"BOOSTER_DAY\",\"T_REINFECTION\", \"VEBOOST\", \"VU_rounded\"]]).fit()\n",
    "\n",
    "print(model.summary())\n",
    "\n",
    "model = sm.OLS(processed_sims[\"mean_time_bw_outbreaks\"],\n",
    "               processed_sims[[\"BETA0\", \"BETA1\", \"BOOSTER_DAY\",\"T_REINFECTION\", \"VEBOOST\", \"VU_rounded\"]]).fit()\n",
    "\n",
    "print(model.summary())\n",
    "\n",
    "model = sm.OLS(processed_sims[\"num_outbreaks\"],\n",
    "               processed_sims[[\"BETA0\", \"BETA1\", \"BOOSTER_DAY\",\"T_REINFECTION\", \"VEBOOST\", \"VU_rounded\"]]).fit()\n",
    "\n",
    "print(model.summary())"
   ]
  },
  {
   "cell_type": "code",
   "execution_count": null,
   "id": "11e1cb65",
   "metadata": {},
   "outputs": [],
   "source": [
    "booster_day_df[\"avg_outbreak_size\"].loc[:,0,:,:]"
   ]
  }
 ],
 "metadata": {
  "kernelspec": {
   "display_name": "Python 3 (ipykernel)",
   "language": "python",
   "name": "python3"
  },
  "language_info": {
   "codemirror_mode": {
    "name": "ipython",
    "version": 3
   },
   "file_extension": ".py",
   "mimetype": "text/x-python",
   "name": "python",
   "nbconvert_exporter": "python",
   "pygments_lexer": "ipython3",
   "version": "3.8.5"
  }
 },
 "nbformat": 4,
 "nbformat_minor": 5
}
