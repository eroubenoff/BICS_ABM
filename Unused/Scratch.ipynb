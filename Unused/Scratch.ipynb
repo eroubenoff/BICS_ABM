{
 "cells": [
  {
   "cell_type": "code",
   "execution_count": 1,
   "id": "bae605f0",
   "metadata": {},
   "outputs": [
    {
     "name": "stderr",
     "output_type": "stream",
     "text": [
      "/Users/eroubenoff/BICS_ABM/BICS_ABM.py:85: DtypeWarning: Columns (26,63,64,65,66,68,69,70,71,72,73,76,86,139,140,149,175,176,177,191,195,205,213,214,215,216,217,218,219,220,221,222,223,224,225,227,228,229) have mixed types. Specify dtype option on import or set low_memory=False.\n",
      "  BICS = pd.read_csv(\"data/df_all_waves.csv\")\n"
     ]
    }
   ],
   "source": [
    "from scipy.stats import uniform, qmc\n",
    "from BICS_ABM import BICS_ABM, VaccineRule\n",
    "import numpy as np \n",
    "import pandas as pd"
   ]
  },
  {
   "cell_type": "code",
   "execution_count": null,
   "id": "4b9f0c66",
   "metadata": {},
   "outputs": [],
   "source": [
    "sampler = qmc.LatinHypercube(d=5)\n",
    "samples = sampler.random(100)"
   ]
  },
  {
   "cell_type": "code",
   "execution_count": null,
   "id": "7101d05e",
   "metadata": {},
   "outputs": [],
   "source": [
    "samples[0:10]"
   ]
  },
  {
   "cell_type": "code",
   "execution_count": null,
   "id": "981cfd98",
   "metadata": {},
   "outputs": [],
   "source": [
    "uniform.ppf(samples[:,3], 0,1)"
   ]
  },
  {
   "cell_type": "code",
   "execution_count": null,
   "id": "09aaf54c",
   "metadata": {},
   "outputs": [],
   "source": [
    "from random import sample\n",
    "import numpy as np"
   ]
  },
  {
   "cell_type": "code",
   "execution_count": null,
   "id": "a2b3fa2c",
   "metadata": {
    "scrolled": true
   },
   "outputs": [],
   "source": [
    "np.random.choice([1,2,3], 10)"
   ]
  },
  {
   "cell_type": "code",
   "execution_count": 2,
   "id": "a5566b3d",
   "metadata": {},
   "outputs": [],
   "source": [
    "pop = result = BICS_ABM( \n",
    "        N_HH = 10,\n",
    "        SEED = 4949, \n",
    "        RHO = 0.5,\n",
    "        ALPHA = 0.25,\n",
    "        BETA0 =0.5,\n",
    "        BETA1 = 1,\n",
    "        T0 = 60,\n",
    "        ISOLATION_MULTIPLIER = 0, #0.5, \n",
    "        N_VAX_DAILY = 1500,\n",
    "        T_REINFECTION = 24*365,\n",
    "        IMPORT_CASES_VEC = [1 if i%7 == 0 else 0 for i in range(365)],\n",
    "        vax_rules = [VaccineRule(general=True, hesitancy=1)],\n",
    "        VEBoost = 1,\n",
    "    \n",
    "#         vax_rules = [\n",
    "#             VaccineRule(\"age > 80\"),\n",
    "#             VaccineRule(\"age > 70\"),\n",
    "#             VaccineRule(\"age > 60\"),\n",
    "#             VaccineRule(\"age > 50\", hesitancy = 0.5),\n",
    "#             VaccineRule(\"age > 40\", hesitancy = 0.5),\n",
    "#             VaccineRule(\"age > 30\", hesitancy = 0.5),\n",
    "#             VaccineRule(general = True, hesitancy = 0.5),\n",
    "#         ],\n",
    "        silent = True,\n",
    "        BOOSTER_DAY = 90,\n",
    "        MAX_DAYS = 5*365)"
   ]
  },
  {
   "cell_type": "code",
   "execution_count": 7,
   "id": "5b780a10",
   "metadata": {},
   "outputs": [
    {
     "data": {
      "text/plain": [
       "array([ 0,  4,  0,  0,  0,  0,  0,  1,  6,  1,  3,  1,  0,  0,  1,  7,  0,\n",
       "        2,  3,  0,  0,  1,  7,  0, 15,  1,  0,  1,  2,  4,  0,  2,  2,  0,\n",
       "        1,  2,  3,  1,  2,  2,  0,  1,  2,  2,  0,  0,  0,  0,  0,  2,  2,\n",
       "        0,  4,  6,  0,  0,  3,  2,  1,  4,  2,  0,  1,  3,  5,  1, 60,  2,\n",
       "        0,  1,  3,  2,  1,  0,  0,  0,  0,  4,  2,  1,  4,  1,  0,  1,  4,\n",
       "        6,  0,  1,  2,  0,  0,  4,  6,  1,  6,  2,  0,  0,  4,  3,  0,  1,\n",
       "        2,  0,  1,  4,  3,  0,  4,  2,  0,  1,  4,  4,  0,  5,  3,  0,  1,\n",
       "        5,  4,  0,  0,  2,  0,  0,  5,  4,  1, 14,  1,  0,  1,  5,  1,  0,\n",
       "        0,  1,  0,  0,  6,  5,  0,  4,  3,  0,  1,  6,  5,  1,  8,  2,  0,\n",
       "        0,  6,  5,  0,  1,  1,  0,  1,  7,  4,  1, 30,  2,  0,  1,  7,  4,\n",
       "        0,  1,  2,  0,  1,  7,  4,  0,  1,  3,  0,  1,  8,  4,  1,  3,  1,\n",
       "        0,  0,  8,  2,  0,  4,  0,  0,  1,  8,  5,  1,  8,  2,  0,  0,  8,\n",
       "        4,  0, 10,  2,  0,  1,  8,  4,  1,  3,  2,  0,  1,  8,  5,  0, 10,\n",
       "        3,  0,  1,  9,  6,  1,  1,  1,  0,  1,  9,  7,  0,  1,  0,  0,  1,\n",
       "        9,  4,  0,  0,  0,  0,  0,  9,  6,  1,  4,  6,  0,  1])"
      ]
     },
     "execution_count": 7,
     "metadata": {},
     "output_type": "execute_result"
    }
   ],
   "source": [
    "pop._pop.flatten().astype(int)"
   ]
  },
  {
   "cell_type": "code",
   "execution_count": 12,
   "id": "38b0691a",
   "metadata": {},
   "outputs": [
    {
     "data": {
      "text/plain": [
       "(36, 7)"
      ]
     },
     "execution_count": 12,
     "metadata": {},
     "output_type": "execute_result"
    }
   ],
   "source": [
    "pop._pop.shape"
   ]
  }
 ],
 "metadata": {
  "kernelspec": {
   "display_name": "Python 3 (ipykernel)",
   "language": "python",
   "name": "python3"
  },
  "language_info": {
   "codemirror_mode": {
    "name": "ipython",
    "version": 3
   },
   "file_extension": ".py",
   "mimetype": "text/x-python",
   "name": "python",
   "nbconvert_exporter": "python",
   "pygments_lexer": "ipython3",
   "version": "3.8.5"
  }
 },
 "nbformat": 4,
 "nbformat_minor": 5
}
