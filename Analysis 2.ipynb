{
 "cells": [
  {
   "cell_type": "code",
   "execution_count": null,
   "id": "053fbc7b",
   "metadata": {},
   "outputs": [],
   "source": [
    "import numpy as np\n",
    "import pandas as pd\n",
    "import matplotlib.pyplot as plt\n",
    "from BICS_ABM import BICS_ABM, VaccineRule\n",
    "import time\n",
    "from joblib import Parallel, delayed\n",
    "from scipy.stats.qmc import LatinHypercube\n",
    "from scipy.stats import norm, uniform, randint\n",
    "\n",
    "import collections\n",
    "import re\n",
    "\n",
    "import datetime\n",
    "import pickle\n",
    "import dill\n",
    "\n",
    "from scipy.signal import find_peaks"
   ]
  },
  {
   "cell_type": "markdown",
   "id": "39cf52e9",
   "metadata": {},
   "source": [
    "# Analysis for new idea: Vaccine timing and outbreak cycles\n",
    "\n",
    "Begin by developing treatment combinations"
   ]
  },
  {
   "cell_type": "code",
   "execution_count": null,
   "id": "aa0e5cb4",
   "metadata": {},
   "outputs": [],
   "source": [
    "t_reinfection_vec = [180*24, 270*24, 360*24]\n",
    "print(t_reinfection_vec)\n",
    "t_booster_vec = np.cumsum([0, 31,28,31,30,31,30,31,31,30,31,30])\n",
    "print(t_booster_vec)\n",
    "ve_boost_vec = [.25, .50, .75]\n",
    "print(ve_boost_vec)\n",
    "ve_uptake_vec = ve_boost_vec\n",
    "\n",
    "treatment_params = []\n",
    "for r in t_reinfection_vec:\n",
    "    for b in t_booster_vec:\n",
    "        for ve in ve_boost_vec:\n",
    "            for vu in ve_uptake_vec:\n",
    "                treatment_params.append({'T_REINFECTION': r,\n",
    "                                         'BOOSTER_DAY': b,\n",
    "                                         'VEBOOST': ve,\n",
    "                                         'VU': vu})\n",
    "                \n"
   ]
  },
  {
   "cell_type": "code",
   "execution_count": null,
   "id": "e41876b7",
   "metadata": {},
   "outputs": [],
   "source": [
    "len(treatment_params)"
   ]
  },
  {
   "cell_type": "code",
   "execution_count": null,
   "id": "4beb0e6a",
   "metadata": {},
   "outputs": [],
   "source": [
    "t = time.time()\n",
    "import_cases = [1 if x%7 == 0 else 0 for x in range(365)]\n",
    "\n",
    "def multi_fn(params):\n",
    "    \"\"\" Wrapper function for multiprocessing\n",
    "    \n",
    "    \"\"\"\n",
    "    \n",
    "\n",
    "    result = BICS_ABM( \n",
    "            N_HH = 1000,\n",
    "            # SEED = 4949, \n",
    "            RHO = 1,\n",
    "            ALPHA = 0.25,\n",
    "            BETA0 = 0.05,\n",
    "            BETA1 = 0.5,\n",
    "            INDEX_CASES = 1,\n",
    "            IMPORT_CASES_VEC = import_cases,\n",
    "            # T0 = 60,\n",
    "            ISOLATION_MULTIPLIER = 0.1, \n",
    "            N_VAX_DAILY = 100,\n",
    "            T_REINFECTION = params['T_REINFECTION'],\n",
    "            VEBOOST = params['VEBOOST'],\n",
    "            vax_rules = [\n",
    "                VaccineRule(general = True, hesitancy = params['VU']) #,\n",
    "            ],\n",
    "            MAX_DAYS=365*10,\n",
    "            BOOSTER_DAY = params['BOOSTER_DAY'],\n",
    "            silent = True)\n",
    "    \n",
    "    fname = \"sims/2023_13_2/\"\n",
    "    for k, v in params.items():\n",
    "        fname += k + \"_\" + str(v) + \"__\"\n",
    "    fname += \".pickle\"\n",
    "    outfile = open(fname,'wb')\n",
    "    pickle.dump(result, outfile)\n",
    "    outfile.close()\n",
    "    \n",
    "    return 0 # result\n",
    "    \n",
    "    \n",
    "result_vec = Parallel(n_jobs=8, verbose = 10)(delayed(multi_fn)(v) for v in treatment_params)\n",
    "    \n",
    "    \n",
    "t = time.time() - t\n",
    "\n",
    "print(len(treatment_params), \"iterations took\", t, \"seconds\")\n"
   ]
  },
  {
   "cell_type": "code",
   "execution_count": null,
   "id": "9eab9445",
   "metadata": {},
   "outputs": [],
   "source": [
    "import os\n",
    "flist = os.listdir(\"sims/2023_13_2/\")\n",
    "\n",
    "sims = []\n",
    "for i,f in enumerate(flist):\n",
    "    \n",
    "    try:\n",
    "        p = open(\"sims/2023_13_2/\" + f, \"rb\")\n",
    "        sims.append(pickle.load(p))\n",
    "        p.close()\n",
    "        \n",
    "    except:\n",
    "        print(\"Failed at\", i)"
   ]
  },
  {
   "cell_type": "code",
   "execution_count": null,
   "id": "a672d178",
   "metadata": {},
   "outputs": [],
   "source": [
    "# Functions for analysis\n",
    "from scipy.signal import find_peaks\n",
    "\n",
    "def process_sim(sim):\n",
    "    \n",
    "    vu = np.mean(sim._pop[:,[i for i,x in enumerate(sim._colnames) if x == \"vaccine_priority\" ][0]] == 0)\n",
    "    \n",
    "    ret = {'T_REINFECTION': sim._params.T_REINFECTION,\n",
    "              'BOOSTER_DAY': sim._params.BOOSTER_DAY,\n",
    "              'VEBOOST': sim._params.VEBOOST,\n",
    "              'VU': vu}\n",
    "    N = sim.S[0] + sim.E[0]\n",
    "    threshold = N * 0.01\n",
    "    threshold= 2\n",
    "    x = np.add.reduceat(sim.Cc, np.arange(0, len(sim.Cc), 24))\n",
    "    peaks, properties = find_peaks(x, height=threshold, distance=30, width=1, rel_height=1)\n",
    "    \n",
    "    count = []\n",
    "    for i in range(len(properties[\"left_ips\"])):\n",
    "        left_bound = round(properties[\"left_ips\"][i])\n",
    "        right_bound = round(properties[\"right_ips\"][i])\n",
    "        count.append(sum(x[left_bound:right_bound]))\n",
    "            \n",
    "    ret[\"num_outbreaks\"] = len(peaks)\n",
    "    ret[\"mean_time_bw_outbreaks\"] = np.mean(np.diff(peaks))\n",
    "    ret[\"avg_outbreak_size\"] = np.mean(count)\n",
    "    \n",
    "    return ret\n",
    "    "
   ]
  },
  {
   "cell_type": "code",
   "execution_count": null,
   "id": "1ff62838",
   "metadata": {},
   "outputs": [],
   "source": [
    "processed_sims = [process_sim(x) for x in sims]"
   ]
  },
  {
   "cell_type": "code",
   "execution_count": null,
   "id": "3800dcd1",
   "metadata": {},
   "outputs": [],
   "source": [
    "processed_sims = pd.DataFrame(processed_sims)"
   ]
  },
  {
   "cell_type": "code",
   "execution_count": null,
   "id": "6fdad01a",
   "metadata": {},
   "outputs": [],
   "source": [
    "processed_sims"
   ]
  },
  {
   "cell_type": "code",
   "execution_count": null,
   "id": "7db92af1",
   "metadata": {},
   "outputs": [],
   "source": [
    "fig, ax = plt.subplots(ncols=3,figsize= (10,5))\n",
    "ax[0].plot(processed_sims.T_REINFECTION/24, processed_sims.num_outbreaks, \".\", )\n",
    "ax[0].set_title(\"Number of Outbreaks\")\n",
    "ax[0].set_xlabel(\"Time until reinfection (days)\")\n",
    "ax[1].plot(processed_sims.T_REINFECTION/24, processed_sims.mean_time_bw_outbreaks, \".\")\n",
    "ax[1].set_title(\"Avg. Time Between Outbreaks (days)\")\n",
    "ax[1].set_xlabel(\"Time until reinfection (days)\")\n",
    "ax[2].plot(processed_sims.T_REINFECTION/24, processed_sims.avg_outbreak_size, \".\")\n",
    "ax[2].set_title(\"Avg. Outbreak Size\")\n",
    "ax[2].set_xlabel(\"Time until reinfection (days)\")"
   ]
  },
  {
   "cell_type": "code",
   "execution_count": null,
   "id": "4c0b8a20",
   "metadata": {},
   "outputs": [],
   "source": [
    "fig, ax = plt.subplots(ncols=3,figsize= (10,5))\n",
    "ax[0].plot(processed_sims.BOOSTER_DAY, processed_sims.num_outbreaks, \".\", )\n",
    "ax[0].set_title(\"Number of Outbreaks\")\n",
    "ax[0].set_xlabel(\"Booster Day\")\n",
    "ax[1].plot(processed_sims.BOOSTER_DAY, processed_sims.mean_time_bw_outbreaks, \".\")\n",
    "ax[1].set_title(\"Avg. Time Between Outbreaks (days)\")\n",
    "ax[1].set_xlabel(\"Booster Day\")\n",
    "ax[2].plot(processed_sims.BOOSTER_DAY, processed_sims.avg_outbreak_size, \".\")\n",
    "ax[2].set_title(\"Avg. Outbreak Size\")\n",
    "ax[2].set_xlabel(\"Booster Day\")"
   ]
  },
  {
   "cell_type": "code",
   "execution_count": null,
   "id": "26a4eebf",
   "metadata": {},
   "outputs": [],
   "source": [
    "fig, ax = plt.subplots(ncols=3,figsize= (10,5))\n",
    "ax[0].plot(processed_sims.VEBOOST, processed_sims.num_outbreaks, \".\", )\n",
    "ax[0].set_title(\"Number of Outbreaks\")\n",
    "ax[0].set_xlabel(\"Booster Efficacy\")\n",
    "ax[1].plot(processed_sims.VEBOOST, processed_sims.mean_time_bw_outbreaks, \".\")\n",
    "ax[1].set_title(\"Avg. Time Between Outbreaks (days)\")\n",
    "ax[1].set_xlabel(\"Booster Efficacy\")\n",
    "ax[2].plot(processed_sims.VEBOOST, processed_sims.avg_outbreak_size, \".\")\n",
    "ax[2].set_title(\"Avg. Outbreak Size\")\n",
    "ax[2].set_xlabel(\"Booster Efficacy\")"
   ]
  },
  {
   "cell_type": "code",
   "execution_count": null,
   "id": "44060066",
   "metadata": {},
   "outputs": [],
   "source": [
    "fig, ax = plt.subplots(ncols=3,figsize= (10,5))\n",
    "ax[0].plot(processed_sims.VU, processed_sims.num_outbreaks, \".\", )\n",
    "ax[0].set_title(\"Number of Outbreaks\")\n",
    "ax[0].set_xlabel(\"Vaccine Uptake Rate\")\n",
    "ax[1].plot(processed_sims.VU, processed_sims.mean_time_bw_outbreaks, \".\")\n",
    "ax[1].set_title(\"Avg. Time Between Outbreaks (days)\")\n",
    "ax[1].set_xlabel(\"Vaccine Uptake Rate\")\n",
    "ax[2].plot(processed_sims.VU, processed_sims.avg_outbreak_size, \".\")\n",
    "ax[2].set_title(\"Avg. Outbreak Size\")\n",
    "ax[2].set_xlabel(\"Vaccine Uptake Rate\")"
   ]
  }
 ],
 "metadata": {
  "kernelspec": {
   "display_name": "Python 3 (ipykernel)",
   "language": "python",
   "name": "python3"
  },
  "language_info": {
   "codemirror_mode": {
    "name": "ipython",
    "version": 3
   },
   "file_extension": ".py",
   "mimetype": "text/x-python",
   "name": "python",
   "nbconvert_exporter": "python",
   "pygments_lexer": "ipython3",
   "version": "3.8.5"
  }
 },
 "nbformat": 4,
 "nbformat_minor": 5
}
